{
 "cells": [
  {
   "cell_type": "markdown",
   "metadata": {
    "id": "iIDXUkMElkDd"
   },
   "source": [
    "# Data Preprocessing"
   ]
  },
  {
   "cell_type": "markdown",
   "metadata": {
    "id": "Hj40LjUilpix"
   },
   "source": [
    "## Importing the libraries"
   ]
  },
  {
   "cell_type": "code",
   "execution_count": 3,
   "metadata": {},
   "outputs": [
    {
     "ename": "ImportError",
     "evalue": "DLL load failed while importing _cext: The specified module could not be found.",
     "output_type": "error",
     "traceback": [
      "\u001b[1;31m---------------------------------------------------------------------------\u001b[0m",
      "\u001b[1;31mImportError\u001b[0m                               Traceback (most recent call last)",
      "Cell \u001b[1;32mIn[3], line 3\u001b[0m\n\u001b[0;32m      1\u001b[0m \u001b[38;5;28;01mimport\u001b[39;00m \u001b[38;5;21;01mpandas\u001b[39;00m \u001b[38;5;28;01mas\u001b[39;00m \u001b[38;5;21;01mpd\u001b[39;00m\n\u001b[0;32m      2\u001b[0m \u001b[38;5;28;01mimport\u001b[39;00m \u001b[38;5;21;01mnumpy\u001b[39;00m \u001b[38;5;28;01mas\u001b[39;00m \u001b[38;5;21;01mnp\u001b[39;00m\n\u001b[1;32m----> 3\u001b[0m \u001b[38;5;28;01mimport\u001b[39;00m \u001b[38;5;21;01mmatplotlib\u001b[39;00m\u001b[38;5;21;01m.\u001b[39;00m\u001b[38;5;21;01mpyplot\u001b[39;00m \u001b[38;5;28;01mas\u001b[39;00m \u001b[38;5;21;01mplt\u001b[39;00m\n",
      "File \u001b[1;32m~\\AppData\\Roaming\\Python\\Python313\\site-packages\\matplotlib\\__init__.py:263\u001b[0m\n\u001b[0;32m    258\u001b[0m         \u001b[38;5;28;01mif\u001b[39;00m parse_version(module\u001b[38;5;241m.\u001b[39m__version__) \u001b[38;5;241m<\u001b[39m parse_version(minver):\n\u001b[0;32m    259\u001b[0m             \u001b[38;5;28;01mraise\u001b[39;00m \u001b[38;5;167;01mImportError\u001b[39;00m(\u001b[38;5;124mf\u001b[39m\u001b[38;5;124m\"\u001b[39m\u001b[38;5;124mMatplotlib requires \u001b[39m\u001b[38;5;132;01m{\u001b[39;00mmodname\u001b[38;5;132;01m}\u001b[39;00m\u001b[38;5;124m>=\u001b[39m\u001b[38;5;132;01m{\u001b[39;00mminver\u001b[38;5;132;01m}\u001b[39;00m\u001b[38;5;124m; \u001b[39m\u001b[38;5;124m\"\u001b[39m\n\u001b[0;32m    260\u001b[0m                               \u001b[38;5;124mf\u001b[39m\u001b[38;5;124m\"\u001b[39m\u001b[38;5;124myou have \u001b[39m\u001b[38;5;132;01m{\u001b[39;00mmodule\u001b[38;5;241m.\u001b[39m__version__\u001b[38;5;132;01m}\u001b[39;00m\u001b[38;5;124m\"\u001b[39m)\n\u001b[1;32m--> 263\u001b[0m \u001b[43m_check_versions\u001b[49m\u001b[43m(\u001b[49m\u001b[43m)\u001b[49m\n\u001b[0;32m    266\u001b[0m \u001b[38;5;66;03m# The decorator ensures this always returns the same handler (and it is only\u001b[39;00m\n\u001b[0;32m    267\u001b[0m \u001b[38;5;66;03m# attached once).\u001b[39;00m\n\u001b[0;32m    268\u001b[0m \u001b[38;5;129m@functools\u001b[39m\u001b[38;5;241m.\u001b[39mcache\n\u001b[0;32m    269\u001b[0m \u001b[38;5;28;01mdef\u001b[39;00m \u001b[38;5;21m_ensure_handler\u001b[39m():\n",
      "File \u001b[1;32m~\\AppData\\Roaming\\Python\\Python313\\site-packages\\matplotlib\\__init__.py:257\u001b[0m, in \u001b[0;36m_check_versions\u001b[1;34m()\u001b[0m\n\u001b[0;32m    248\u001b[0m \u001b[38;5;28;01mfrom\u001b[39;00m \u001b[38;5;21;01m.\u001b[39;00m \u001b[38;5;28;01mimport\u001b[39;00m ft2font  \u001b[38;5;66;03m# noqa: F401\u001b[39;00m\n\u001b[0;32m    250\u001b[0m \u001b[38;5;28;01mfor\u001b[39;00m modname, minver \u001b[38;5;129;01min\u001b[39;00m [\n\u001b[0;32m    251\u001b[0m         (\u001b[38;5;124m\"\u001b[39m\u001b[38;5;124mcycler\u001b[39m\u001b[38;5;124m\"\u001b[39m, \u001b[38;5;124m\"\u001b[39m\u001b[38;5;124m0.10\u001b[39m\u001b[38;5;124m\"\u001b[39m),\n\u001b[0;32m    252\u001b[0m         (\u001b[38;5;124m\"\u001b[39m\u001b[38;5;124mdateutil\u001b[39m\u001b[38;5;124m\"\u001b[39m, \u001b[38;5;124m\"\u001b[39m\u001b[38;5;124m2.7\u001b[39m\u001b[38;5;124m\"\u001b[39m),\n\u001b[1;32m   (...)\u001b[0m\n\u001b[0;32m    255\u001b[0m         (\u001b[38;5;124m\"\u001b[39m\u001b[38;5;124mpyparsing\u001b[39m\u001b[38;5;124m\"\u001b[39m, \u001b[38;5;124m\"\u001b[39m\u001b[38;5;124m2.3.1\u001b[39m\u001b[38;5;124m\"\u001b[39m),\n\u001b[0;32m    256\u001b[0m ]:\n\u001b[1;32m--> 257\u001b[0m     module \u001b[38;5;241m=\u001b[39m \u001b[43mimportlib\u001b[49m\u001b[38;5;241;43m.\u001b[39;49m\u001b[43mimport_module\u001b[49m\u001b[43m(\u001b[49m\u001b[43mmodname\u001b[49m\u001b[43m)\u001b[49m\n\u001b[0;32m    258\u001b[0m     \u001b[38;5;28;01mif\u001b[39;00m parse_version(module\u001b[38;5;241m.\u001b[39m__version__) \u001b[38;5;241m<\u001b[39m parse_version(minver):\n\u001b[0;32m    259\u001b[0m         \u001b[38;5;28;01mraise\u001b[39;00m \u001b[38;5;167;01mImportError\u001b[39;00m(\u001b[38;5;124mf\u001b[39m\u001b[38;5;124m\"\u001b[39m\u001b[38;5;124mMatplotlib requires \u001b[39m\u001b[38;5;132;01m{\u001b[39;00mmodname\u001b[38;5;132;01m}\u001b[39;00m\u001b[38;5;124m>=\u001b[39m\u001b[38;5;132;01m{\u001b[39;00mminver\u001b[38;5;132;01m}\u001b[39;00m\u001b[38;5;124m; \u001b[39m\u001b[38;5;124m\"\u001b[39m\n\u001b[0;32m    260\u001b[0m                           \u001b[38;5;124mf\u001b[39m\u001b[38;5;124m\"\u001b[39m\u001b[38;5;124myou have \u001b[39m\u001b[38;5;132;01m{\u001b[39;00mmodule\u001b[38;5;241m.\u001b[39m__version__\u001b[38;5;132;01m}\u001b[39;00m\u001b[38;5;124m\"\u001b[39m)\n",
      "File \u001b[1;32mc:\\Program Files\\Python313\\Lib\\importlib\\__init__.py:88\u001b[0m, in \u001b[0;36mimport_module\u001b[1;34m(name, package)\u001b[0m\n\u001b[0;32m     86\u001b[0m             \u001b[38;5;28;01mbreak\u001b[39;00m\n\u001b[0;32m     87\u001b[0m         level \u001b[38;5;241m+\u001b[39m\u001b[38;5;241m=\u001b[39m \u001b[38;5;241m1\u001b[39m\n\u001b[1;32m---> 88\u001b[0m \u001b[38;5;28;01mreturn\u001b[39;00m \u001b[43m_bootstrap\u001b[49m\u001b[38;5;241;43m.\u001b[39;49m\u001b[43m_gcd_import\u001b[49m\u001b[43m(\u001b[49m\u001b[43mname\u001b[49m\u001b[43m[\u001b[49m\u001b[43mlevel\u001b[49m\u001b[43m:\u001b[49m\u001b[43m]\u001b[49m\u001b[43m,\u001b[49m\u001b[43m \u001b[49m\u001b[43mpackage\u001b[49m\u001b[43m,\u001b[49m\u001b[43m \u001b[49m\u001b[43mlevel\u001b[49m\u001b[43m)\u001b[49m\n",
      "File \u001b[1;32m~\\AppData\\Roaming\\Python\\Python313\\site-packages\\kiwisolver\\__init__.py:8\u001b[0m\n\u001b[0;32m      1\u001b[0m \u001b[38;5;66;03m# --------------------------------------------------------------------------------------\u001b[39;00m\n\u001b[0;32m      2\u001b[0m \u001b[38;5;66;03m# Copyright (c) 2013-2024, Nucleic Development Team.\u001b[39;00m\n\u001b[0;32m      3\u001b[0m \u001b[38;5;66;03m#\u001b[39;00m\n\u001b[1;32m   (...)\u001b[0m\n\u001b[0;32m      6\u001b[0m \u001b[38;5;66;03m# The full license is in the file LICENSE, distributed with this software.\u001b[39;00m\n\u001b[0;32m      7\u001b[0m \u001b[38;5;66;03m# --------------------------------------------------------------------------------------\u001b[39;00m\n\u001b[1;32m----> 8\u001b[0m \u001b[38;5;28;01mfrom\u001b[39;00m \u001b[38;5;21;01m.\u001b[39;00m\u001b[38;5;21;01m_cext\u001b[39;00m \u001b[38;5;28;01mimport\u001b[39;00m (\n\u001b[0;32m      9\u001b[0m     Constraint,\n\u001b[0;32m     10\u001b[0m     Expression,\n\u001b[0;32m     11\u001b[0m     Solver,\n\u001b[0;32m     12\u001b[0m     Term,\n\u001b[0;32m     13\u001b[0m     Variable,\n\u001b[0;32m     14\u001b[0m     __kiwi_version__,\n\u001b[0;32m     15\u001b[0m     __version__,\n\u001b[0;32m     16\u001b[0m     strength,\n\u001b[0;32m     17\u001b[0m )\n\u001b[0;32m     18\u001b[0m \u001b[38;5;28;01mfrom\u001b[39;00m \u001b[38;5;21;01m.\u001b[39;00m\u001b[38;5;21;01mexceptions\u001b[39;00m \u001b[38;5;28;01mimport\u001b[39;00m (\n\u001b[0;32m     19\u001b[0m     BadRequiredStrength,\n\u001b[0;32m     20\u001b[0m     DuplicateConstraint,\n\u001b[1;32m   (...)\u001b[0m\n\u001b[0;32m     24\u001b[0m     UnsatisfiableConstraint,\n\u001b[0;32m     25\u001b[0m )\n\u001b[0;32m     27\u001b[0m __all__ \u001b[38;5;241m=\u001b[39m [\n\u001b[0;32m     28\u001b[0m     \u001b[38;5;124m\"\u001b[39m\u001b[38;5;124mBadRequiredStrength\u001b[39m\u001b[38;5;124m\"\u001b[39m,\n\u001b[0;32m     29\u001b[0m     \u001b[38;5;124m\"\u001b[39m\u001b[38;5;124mDuplicateConstraint\u001b[39m\u001b[38;5;124m\"\u001b[39m,\n\u001b[1;32m   (...)\u001b[0m\n\u001b[0;32m     41\u001b[0m     \u001b[38;5;124m\"\u001b[39m\u001b[38;5;124m__kiwi_version__\u001b[39m\u001b[38;5;124m\"\u001b[39m,\n\u001b[0;32m     42\u001b[0m ]\n",
      "\u001b[1;31mImportError\u001b[0m: DLL load failed while importing _cext: The specified module could not be found."
     ]
    }
   ],
   "source": [
    "import pandas as pd\n",
    "import numpy as np\n",
    "import matplotlib.pyplot as plt"
   ]
  },
  {
   "cell_type": "markdown",
   "metadata": {
    "id": "XaG0s7WjmgPU"
   },
   "source": [
    "\n",
    "\n",
    "\n",
    "## Handling Missing Data"
   ]
  },
  {
   "cell_type": "code",
   "execution_count": 9,
   "metadata": {},
   "outputs": [
    {
     "data": {
      "text/plain": [
       "array([[  6],\n",
       "       [  8],\n",
       "       [  9],\n",
       "       [ 11],\n",
       "       [ 13],\n",
       "       [ 16],\n",
       "       [ 16],\n",
       "       [ 18],\n",
       "       [ 20],\n",
       "       [ 24],\n",
       "       [ 25],\n",
       "       [ 25],\n",
       "       [ 25],\n",
       "       [ 26],\n",
       "       [ 26],\n",
       "       [ 26],\n",
       "       [ 26],\n",
       "       [ 26],\n",
       "       [ 26],\n",
       "       [ 26],\n",
       "       [ 26],\n",
       "       [ 26],\n",
       "       [ 26],\n",
       "       [ 27],\n",
       "       [ 27],\n",
       "       [ 27],\n",
       "       [ 27],\n",
       "       [ 27],\n",
       "       [ 28],\n",
       "       [ 28],\n",
       "       [ 30],\n",
       "       [ 30],\n",
       "       [ 31],\n",
       "       [ 36],\n",
       "       [ 41],\n",
       "       [ 47],\n",
       "       [ 51],\n",
       "       [ 57],\n",
       "       [ 61],\n",
       "       [ 66],\n",
       "       [ 73],\n",
       "       [ 76],\n",
       "       [ 80],\n",
       "       [ 84],\n",
       "       [ 93],\n",
       "       [ 94],\n",
       "       [ 99],\n",
       "       [102],\n",
       "       [105],\n",
       "       [111],\n",
       "       [113],\n",
       "       [120],\n",
       "       [133],\n",
       "       [137],\n",
       "       [143],\n",
       "       [146],\n",
       "       [150],\n",
       "       [154],\n",
       "       [161],\n",
       "       [163],\n",
       "       [168],\n",
       "       [169],\n",
       "       [171],\n",
       "       [174],\n",
       "       [175],\n",
       "       [176],\n",
       "       [176],\n",
       "       [176],\n",
       "       [177],\n",
       "       [179],\n",
       "       [179],\n",
       "       [180],\n",
       "       [180],\n",
       "       [180],\n",
       "       [182],\n",
       "       [183],\n",
       "       [183],\n",
       "       [183],\n",
       "       [183],\n",
       "       [184],\n",
       "       [184],\n",
       "       [184],\n",
       "       [184],\n",
       "       [184],\n",
       "       [184],\n",
       "       [184],\n",
       "       [184],\n",
       "       [184],\n",
       "       [184],\n",
       "       [184],\n",
       "       [184],\n",
       "       [184],\n",
       "       [184],\n",
       "       [184],\n",
       "       [184],\n",
       "       [184],\n",
       "       [184],\n",
       "       [184],\n",
       "       [184],\n",
       "       [186],\n",
       "       [186],\n",
       "       [186],\n",
       "       [186],\n",
       "       [186],\n",
       "       [186],\n",
       "       [186],\n",
       "       [186],\n",
       "       [186],\n",
       "       [186],\n",
       "       [186],\n",
       "       [186],\n",
       "       [186],\n",
       "       [187],\n",
       "       [187],\n",
       "       [187],\n",
       "       [187],\n",
       "       [187],\n",
       "       [187],\n",
       "       [187],\n",
       "       [187],\n",
       "       [187],\n",
       "       [187],\n",
       "       [187],\n",
       "       [187],\n",
       "       [187],\n",
       "       [187],\n",
       "       [187],\n",
       "       [187],\n",
       "       [187],\n",
       "       [187],\n",
       "       [187],\n",
       "       [187],\n",
       "       [187],\n",
       "       [187],\n",
       "       [187],\n",
       "       [187],\n",
       "       [187],\n",
       "       [187],\n",
       "       [187],\n",
       "       [187],\n",
       "       [187],\n",
       "       [187],\n",
       "       [187],\n",
       "       [187],\n",
       "       [187],\n",
       "       [187],\n",
       "       [187],\n",
       "       [187],\n",
       "       [187],\n",
       "       [187],\n",
       "       [187],\n",
       "       [187],\n",
       "       [187],\n",
       "       [187],\n",
       "       [187],\n",
       "       [187],\n",
       "       [187],\n",
       "       [187],\n",
       "       [187],\n",
       "       [187],\n",
       "       [187],\n",
       "       [187],\n",
       "       [187],\n",
       "       [187],\n",
       "       [187],\n",
       "       [187],\n",
       "       [187],\n",
       "       [187],\n",
       "       [187],\n",
       "       [187],\n",
       "       [187],\n",
       "       [187],\n",
       "       [187],\n",
       "       [187],\n",
       "       [187],\n",
       "       [187],\n",
       "       [187],\n",
       "       [187],\n",
       "       [187],\n",
       "       [187],\n",
       "       [187],\n",
       "       [187],\n",
       "       [187],\n",
       "       [187],\n",
       "       [187],\n",
       "       [187],\n",
       "       [187],\n",
       "       [187]])"
      ]
     },
     "execution_count": 9,
     "metadata": {},
     "output_type": "execute_result"
    }
   ],
   "source": [
    "data = pd.read_csv('day_wise.csv')\n",
    "x = data.iloc[ : , -1:].values\n",
    "# iloc[rows, coloms]  start : end (excluding end)\n",
    "data.head()\n",
    "x\n"
   ]
  },
  {
   "cell_type": "markdown",
   "metadata": {
    "id": "zApSnwUkl9eD"
   },
   "source": [
    "## Importing Dataset"
   ]
  },
  {
   "cell_type": "code",
   "execution_count": null,
   "metadata": {},
   "outputs": [],
   "source": []
  },
  {
   "cell_type": "markdown",
   "metadata": {
    "id": "o0syRbsSmkoe"
   },
   "source": [
    "## Encoding Categorical Data"
   ]
  },
  {
   "cell_type": "markdown",
   "metadata": {
    "id": "alHfpomamsVr"
   },
   "source": [
    "### Encoding independent variables"
   ]
  },
  {
   "cell_type": "markdown",
   "metadata": {
    "id": "VEJCi9Fgmz-n"
   },
   "source": [
    "### Encoding dependent variables"
   ]
  },
  {
   "cell_type": "markdown",
   "metadata": {
    "id": "Bfz9vcDsm7r6"
   },
   "source": [
    "## Splitting data into Test set & Training Set\n"
   ]
  },
  {
   "cell_type": "markdown",
   "metadata": {
    "id": "a5uoHf8MsQG0"
   },
   "source": [
    "## Feature Scaling"
   ]
  }
 ],
 "metadata": {
  "colab": {
   "authorship_tag": "ABX9TyMojhScvfhNEf0PB0SFUBgo",
   "name": "Data Preprocessing Template.ipynb",
   "provenance": [],
   "toc_visible": true
  },
  "kernelspec": {
   "display_name": "Python 3",
   "language": "python",
   "name": "python3"
  },
  "language_info": {
   "codemirror_mode": {
    "name": "ipython",
    "version": 3
   },
   "file_extension": ".py",
   "mimetype": "text/x-python",
   "name": "python",
   "nbconvert_exporter": "python",
   "pygments_lexer": "ipython3",
   "version": "3.13.0"
  }
 },
 "nbformat": 4,
 "nbformat_minor": 4
}
